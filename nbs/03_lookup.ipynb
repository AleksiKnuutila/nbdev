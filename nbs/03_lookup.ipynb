{
 "cells": [
  {
   "cell_type": "code",
   "execution_count": null,
   "metadata": {
    "hide_input": false
   },
   "outputs": [],
   "source": [
    "#hide\n",
    "#default_exp lookup\n",
    "#default_cls_lvl 3"
   ]
  },
  {
   "cell_type": "code",
   "execution_count": null,
   "metadata": {},
   "outputs": [],
   "source": [
    "#export\n",
    "from nbdev.imports import *\n",
    "from nbdev.read import *\n",
    "from nbdev.export import *\n",
    "from nbdev.doclinks import *\n",
    "from fastcore.utils import *\n",
    "\n",
    "import pkg_resources,importlib\n",
    "\n",
    "if IN_NOTEBOOK:\n",
    "    from IPython.display import Markdown,display\n",
    "    from IPython.core import page\n",
    "else: Markdown,display,page = None,None,None"
   ]
  },
  {
   "cell_type": "code",
   "execution_count": null,
   "metadata": {},
   "outputs": [],
   "source": [
    "from fastcore.test import *"
   ]
  },
  {
   "cell_type": "markdown",
   "metadata": {},
   "source": [
    "# Doc lookup\n",
    "\n",
    "> Convert backticks to links"
   ]
  },
  {
   "cell_type": "code",
   "execution_count": null,
   "metadata": {},
   "outputs": [],
   "source": [
    "#export\n",
    "class NbdevLookup:\n",
    "    \"Mapping from symbol names to URLs with docs\"\n",
    "    def __init__(self, strip_libs=None, incl_libs=None, skip_mods=None):\n",
    "        skip_mods = setify(skip_mods)\n",
    "        strip_libs = L(strip_libs)\n",
    "        if incl_libs is not None: incl_libs = (L(incl_libs)+strip_libs).unique()\n",
    "        # Dict from lib name to _nbdev module for incl_libs (defaults to all)\n",
    "        self.entries = {o.dist.key:o.load() for o in pkg_resources.iter_entry_points(group='nbdev')\n",
    "                       if incl_libs is None or o.dist.key in incl_libs}\n",
    "        py_syms = merge(*L(o.modidx['syms'].values() for o in self.entries.values()).concat())\n",
    "        for m in strip_libs:\n",
    "            _d = self.entries[m].modidx\n",
    "            stripped = {remove_prefix(k,f\"{mod}.\"):v\n",
    "                        for mod,dets in _d['syms'].items() if mod not in skip_mods\n",
    "                        for k,v in dets.items()}\n",
    "            py_syms = merge(stripped, py_syms)\n",
    "        self.syms = py_syms\n",
    "\n",
    "    def __getitem__(self, s): return self.syms.get(s, None)"
   ]
  },
  {
   "cell_type": "markdown",
   "metadata": {},
   "source": [
    "Symbol names are taken from libraries registered using the 'nbdev' entry point. By default, all libraries with this entry point are searched, but full symbol names (including module prefix) are required."
   ]
  },
  {
   "cell_type": "code",
   "execution_count": null,
   "metadata": {},
   "outputs": [],
   "source": [
    "c = NbdevLookup()\n",
    "assert c['nbdev.doclinks.DocLinks'].startswith('http')\n",
    "assert c['numpy.array'].startswith('http')\n",
    "assert not c['DocLinks']"
   ]
  },
  {
   "cell_type": "markdown",
   "metadata": {},
   "source": [
    "Pass `strip_libs` to list libraries which should be available without requiring a module prefix."
   ]
  },
  {
   "cell_type": "code",
   "execution_count": null,
   "metadata": {},
   "outputs": [],
   "source": [
    "c = NbdevLookup(strip_libs=['nbdev','nbdev-numpy'])\n",
    "assert c['DocLinks'].startswith('http')\n",
    "assert c['array'].startswith('http')"
   ]
  },
  {
   "cell_type": "code",
   "execution_count": null,
   "metadata": {},
   "outputs": [],
   "source": [
    "#export\n",
    "from nbdev._nbdev import modidx\n",
    "_settings = modidx['settings']\n",
    "_strip_libs  = _settings.get('strip_libs',_settings.get('lib_name')).split()\n",
    "nbdev_lookup = NbdevLookup(_strip_libs)"
   ]
  },
  {
   "cell_type": "markdown",
   "metadata": {},
   "source": [
    "nbdev itself includes `nbdev_lookup`, an instantiated `NbdevLookup` with `strip_libs=nbdev`."
   ]
  },
  {
   "cell_type": "code",
   "execution_count": null,
   "metadata": {},
   "outputs": [],
   "source": [
    "assert nbdev_lookup['DocLinks'].startswith('http')\n",
    "assert nbdev_lookup['numpy.array'].startswith('http')\n",
    "assert not nbdev_lookup['array']"
   ]
  },
  {
   "cell_type": "markdown",
   "metadata": {},
   "source": [
    "## Backticks"
   ]
  },
  {
   "cell_type": "code",
   "execution_count": null,
   "metadata": {},
   "outputs": [],
   "source": [
    "#export\n",
    "@patch\n",
    "def _link_sym(self:NbdevLookup, m):\n",
    "    l = m.group(1)\n",
    "    s = self[l]\n",
    "    if s is None: return m.group(0)\n",
    "    return rf\"[{l}]({s})\"\n",
    "\n",
    "_re_backticks = re.compile(r'`([^`\\s]+)`')\n",
    "@patch\n",
    "def _link_line(self:NbdevLookup, l): return _re_backticks.sub(self._link_sym, l)\n",
    "\n",
    "@patch\n",
    "def linkify(self:NbdevLookup, md):\n",
    "    in_fence=False\n",
    "    lines = md.splitlines()\n",
    "    for i,l in enumerate(lines):\n",
    "        if l.startswith(\"```\"): in_fence=not in_fence\n",
    "        elif not l.startswith('    ') and not in_fence: lines[i] = self._link_line(l)\n",
    "    return '\\n'.join(lines)"
   ]
  },
  {
   "cell_type": "code",
   "execution_count": null,
   "metadata": {},
   "outputs": [],
   "source": [
    "md = \"\"\"This is a link to `numpy.array` and to `read_nb` but not a link to `foobar`.\n",
    "And not a link to <code>dict2nb</code>.\n",
    "\n",
    "    This is not a link to `read_nb`\n",
    "\n",
    "```\n",
    "This isn't a link to `read_nb` either\n",
    "```\"\"\""
   ]
  },
  {
   "cell_type": "code",
   "execution_count": null,
   "metadata": {},
   "outputs": [
    {
     "data": {
      "text/markdown": [
       "This is a link to [numpy.array](https://numpy.org/doc/stable/reference/generated/numpy.array.html#numpy.array) and to [read_nb](https://nbdev.fast.ai/nbdev.read#read_nb) but not a link to `foobar`.\n",
       "And not a link to <code>dict2nb</code>.\n",
       "\n",
       "    This is not a link to `read_nb`\n",
       "\n",
       "```\n",
       "This isn't a link to `read_nb` either\n",
       "```"
      ],
      "text/plain": [
       "<IPython.core.display.Markdown object>"
      ]
     },
     "execution_count": null,
     "metadata": {},
     "output_type": "execute_result"
    }
   ],
   "source": [
    "c = NbdevLookup('nbdev')\n",
    "Markdown(c.linkify(md))"
   ]
  },
  {
   "cell_type": "markdown",
   "metadata": {},
   "source": [
    "## Export -"
   ]
  },
  {
   "cell_type": "code",
   "execution_count": null,
   "metadata": {},
   "outputs": [],
   "source": [
    "from nbdev.doclinks import nbdev_build_lib\n",
    "nbdev_build_lib()"
   ]
  },
  {
   "cell_type": "code",
   "execution_count": null,
   "metadata": {},
   "outputs": [],
   "source": []
  }
 ],
 "metadata": {
  "jupytext": {
   "split_at_heading": true
  },
  "kernelspec": {
   "display_name": "Python 3",
   "language": "python",
   "name": "python3"
  }
 },
 "nbformat": 4,
 "nbformat_minor": 2
}
