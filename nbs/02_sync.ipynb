{
 "cells": [
  {
   "cell_type": "code",
   "execution_count": null,
   "metadata": {},
   "outputs": [],
   "source": [
    "#default_exp sync"
   ]
  },
  {
   "cell_type": "markdown",
   "metadata": {},
   "source": [
    "# Synchronize and diff\n",
    "\n",
    "> Propagating small changes in the library back to notebooks"
   ]
  },
  {
   "cell_type": "markdown",
   "metadata": {},
   "source": [
    "The library is primarily developed in notebooks so any big changes should be made there. But sometimes, it's easier to fix small bugs or typos in the modules directly. `nbdev_update_lib` is the function that will propagate those changes back to the corresponding notebooks. Note that you can't create new cells or reorder cells with that functionality, so your corrections should remain limited."
   ]
  },
  {
   "cell_type": "code",
   "execution_count": null,
   "metadata": {},
   "outputs": [],
   "source": [
    "#export\n",
    "from nbdev.read import *\n",
    "from nbdev.export import *\n",
    "\n",
    "from nbdev.imports import *\n",
    "from fastcore.script import *\n",
    "\n",
    "import nbformat,ast\n",
    "from nbformat.sign import NotebookNotary"
   ]
  },
  {
   "cell_type": "code",
   "execution_count": null,
   "metadata": {},
   "outputs": [],
   "source": [
    "#export\n",
    "_re_import = re.compile(\"from\\s+\\S+\\s+import\\s+\\S\")\n",
    "\n",
    "def _to_absolute(code, libname):\n",
    "    if not _re_import.search(code): return code\n",
    "    res = update_import(code, ast.parse(code).body, libname, absolute_import)\n",
    "    if not res: return code\n",
    "    return ''.join(res)\n",
    "\n",
    "def _update_lib(nbname, nb_locs):\n",
    "    libname = Config().lib_name\n",
    "    nbtxt = Path(nbname).read_text()\n",
    "    nb = nbformat.reads(nbtxt, as_version=4)\n",
    "    for nbn,cellid,code in nb_locs:\n",
    "        assert nbn==nbname,(nbn,nbname)\n",
    "        code = code[code.find(\"\\n\")+1:]\n",
    "        nb.cells[int(cellid)].source = _to_absolute(code, libname)\n",
    "\n",
    "    NotebookNotary().sign(nb)\n",
    "    nbformat.write(nb, 'tmp/tmp.ipynb', version=4)"
   ]
  },
  {
   "cell_type": "code",
   "execution_count": null,
   "metadata": {},
   "outputs": [],
   "source": [
    "#export\n",
    "@call_parse\n",
    "def nbdev_update_lib(fname:Param(\"A python module name to convert\", str)):\n",
    "    \"Propagates any change in the modules matching `fname` to the notebooks that created them\"\n",
    "    if os.environ.get('IN_TEST',0): return\n",
    "    fname = Path(fname)\n",
    "    code = fname.read_text()\n",
    "    split_str = \"\\n#nbdev_cell \"\n",
    "    code_cells = code.split(split_str)[1:]\n",
    "    locs = L(s.splitlines()[0].split()+[s.strip(\"\\n\")]\n",
    "             for s in code_cells if not s.startswith('auto '))\n",
    "    for nbname,nb_locs in groupby(locs, itemgetter(0)).items(): _update_lib(nbname, nb_locs)"
   ]
  },
  {
   "cell_type": "code",
   "execution_count": null,
   "metadata": {},
   "outputs": [],
   "source": [
    "# nbdev_update_lib(\"../nbdev/export.py\")"
   ]
  },
  {
   "cell_type": "markdown",
   "metadata": {},
   "source": [
    "## Export -"
   ]
  },
  {
   "cell_type": "code",
   "execution_count": null,
   "metadata": {},
   "outputs": [],
   "source": [
    "from nbdev.export import nbdev_build_lib\n",
    "nbdev_build_lib()"
   ]
  },
  {
   "cell_type": "code",
   "execution_count": null,
   "metadata": {},
   "outputs": [],
   "source": []
  }
 ],
 "metadata": {
  "kernelspec": {
   "display_name": "Python 3",
   "language": "python",
   "name": "python3"
  }
 },
 "nbformat": 4,
 "nbformat_minor": 4
}
