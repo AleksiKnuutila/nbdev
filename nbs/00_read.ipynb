{
 "cells": [
  {
   "cell_type": "code",
   "execution_count": null,
   "metadata": {},
   "outputs": [],
   "source": [
    "#hide\n",
    "#default_exp read"
   ]
  },
  {
   "cell_type": "markdown",
   "metadata": {},
   "source": [
    "# nbdev.read\n",
    "- Reading a notebook, and initial bootstrapping for notebook exporting"
   ]
  },
  {
   "cell_type": "code",
   "execution_count": null,
   "metadata": {},
   "outputs": [],
   "source": [
    "#export\n",
    "from fastcore.imports import *\n",
    "from fastcore.foundation import *\n",
    "from fastcore.utils import *\n",
    "from fastcore.test import *\n",
    "from fastcore.script import *\n",
    "from fastcore.xtras import *\n",
    "\n",
    "import json,ast,functools"
   ]
  },
  {
   "cell_type": "code",
   "execution_count": null,
   "metadata": {},
   "outputs": [],
   "source": [
    "import time,nbclient,tempfile\n",
    "from IPython.display import Markdown\n",
    "from pprint import pformat,pprint"
   ]
  },
  {
   "cell_type": "markdown",
   "metadata": {},
   "source": [
    "## Reading executing, and writing notebooks"
   ]
  },
  {
   "cell_type": "markdown",
   "metadata": {},
   "source": [
    "A notebook is just a json file:"
   ]
  },
  {
   "cell_type": "code",
   "execution_count": null,
   "metadata": {},
   "outputs": [],
   "source": [
    "minimal_fn = Path('../tests/minimal.ipynb')\n",
    "minimal_txt = minimal_fn.read_json()"
   ]
  },
  {
   "cell_type": "markdown",
   "metadata": {},
   "source": [
    "We'll create a function that lets use display JSON in a more compact form, so we can take a look at this file:"
   ]
  },
  {
   "cell_type": "code",
   "execution_count": null,
   "metadata": {},
   "outputs": [],
   "source": [
    "def display_json(d):\n",
    "    \"Formatter to reduce vertical space used by JSON display\"\n",
    "    s = pformat(d, indent=2, width=120, compact=True, sort_dicts=False)\n",
    "    return Markdown(f\"```python\\n{s}\\n```\")"
   ]
  },
  {
   "cell_type": "code",
   "execution_count": null,
   "metadata": {},
   "outputs": [
    {
     "data": {
      "text/markdown": [
       "```python\n",
       "{ 'cells': [ {'cell_type': 'markdown', 'metadata': {}, 'source': ['# A minimal notebook']},\n",
       "             { 'cell_type': 'code',\n",
       "               'execution_count': None,\n",
       "               'metadata': {'foo': 'bar'},\n",
       "               'outputs': [],\n",
       "               'source': ['# Do some arithmetic\\n', '1+1']}],\n",
       "  'metadata': { 'kernelspec': {'display_name': 'Python 3', 'language': 'python', 'name': 'python3'},\n",
       "                'language_info': { 'codemirror_mode': {'name': 'ipython', 'version': 3},\n",
       "                                   'file_extension': '.py',\n",
       "                                   'mimetype': 'text/x-python',\n",
       "                                   'name': 'python',\n",
       "                                   'nbconvert_exporter': 'python',\n",
       "                                   'pygments_lexer': 'ipython3',\n",
       "                                   'version': '3.8.3'}},\n",
       "  'nbformat': 4,\n",
       "  'nbformat_minor': 4}\n",
       "```"
      ],
      "text/plain": [
       "<IPython.core.display.Markdown object>"
      ]
     },
     "execution_count": null,
     "metadata": {},
     "output_type": "execute_result"
    }
   ],
   "source": [
    "display_json(minimal_txt)"
   ]
  },
  {
   "cell_type": "markdown",
   "metadata": {},
   "source": [
    "The important bit for us is the `cells`:"
   ]
  },
  {
   "cell_type": "code",
   "execution_count": null,
   "metadata": {},
   "outputs": [
    {
     "data": {
      "text/markdown": [
       "```python\n",
       "[ {'cell_type': 'markdown', 'metadata': {}, 'source': ['# A minimal notebook']},\n",
       "  { 'cell_type': 'code',\n",
       "    'execution_count': None,\n",
       "    'metadata': {'foo': 'bar'},\n",
       "    'outputs': [],\n",
       "    'source': ['# Do some arithmetic\\n', '1+1']}]\n",
       "```"
      ],
      "text/plain": [
       "<IPython.core.display.Markdown object>"
      ]
     },
     "execution_count": null,
     "metadata": {},
     "output_type": "execute_result"
    }
   ],
   "source": [
    "display_json(minimal_txt['cells'])"
   ]
  },
  {
   "cell_type": "markdown",
   "metadata": {},
   "source": [
    "The second cell here is a `code` cell, however it contains no outputs, because it hasn't been executed yet. To execute a notebook, we first need to convert it into a format suitable for `nbclient` (which expects some `dict` keys to be available as attrs, and some available as regular `dict` keys). Normally, `nbformat` is used for this step, but it's rather slow and inflexible, so we'll write our own function based on `fastcore`'s handy `dict2obj`, which makes all keys available as both attrs *and* keys."
   ]
  },
  {
   "cell_type": "code",
   "execution_count": null,
   "metadata": {},
   "outputs": [],
   "source": [
    "#export\n",
    "class NbCell(AttrDict):\n",
    "    def __init__(self, idx, cell):\n",
    "        super().__init__(cell)\n",
    "        self.idx_ = idx\n",
    "        if 'source' in self: self.set_source(self.source)\n",
    "\n",
    "    def __repr__(self): return self.source\n",
    "    \n",
    "    def set_source(self, source):\n",
    "        self.source = ''.join(source)\n",
    "        if '_parsed_' in self: del(self['_parsed_'])\n",
    "    \n",
    "    def parsed_(self):\n",
    "        if self.cell_type!='code' or self.source[:1]=='%': return\n",
    "        if '_parsed_' not in self: self._parsed_ = ast.parse(self.source).body\n",
    "        return self._parsed_"
   ]
  },
  {
   "cell_type": "markdown",
   "metadata": {},
   "source": [
    "We use an `AttrDict` subclass which has some basic functionality for accessing notebook cells."
   ]
  },
  {
   "cell_type": "code",
   "execution_count": null,
   "metadata": {},
   "outputs": [],
   "source": [
    "#export\n",
    "def dict2nb(js):\n",
    "    \"Convert a dict to an `AttrDict`, \"\n",
    "    nb = dict2obj(js)\n",
    "    nb.cells = nb.cells.enumerate().starmap(NbCell)\n",
    "    return nb"
   ]
  },
  {
   "cell_type": "markdown",
   "metadata": {},
   "source": [
    "We can now convert our JSON into this `nbclient`-compatible format..."
   ]
  },
  {
   "cell_type": "code",
   "execution_count": null,
   "metadata": {},
   "outputs": [],
   "source": [
    "minimal = dict2nb(minimal_txt)"
   ]
  },
  {
   "cell_type": "markdown",
   "metadata": {},
   "source": [
    "...and execute it:"
   ]
  },
  {
   "cell_type": "code",
   "execution_count": null,
   "metadata": {},
   "outputs": [],
   "source": [
    "nbclient.execute(minimal);"
   ]
  },
  {
   "cell_type": "markdown",
   "metadata": {},
   "source": [
    "One nice feature of the output of `dict2nb` is that we can still use it as a `dict`, so `display_json` still works as before. We can see that the cell has been executed, and the output added back to the `nb`:"
   ]
  },
  {
   "cell_type": "code",
   "execution_count": null,
   "metadata": {},
   "outputs": [
    {
     "data": {
      "text/markdown": [
       "```python\n",
       "[{'output_type': 'execute_result', 'metadata': {}, 'data': {'text/plain': '2'}, 'execution_count': 1}]\n",
       "```"
      ],
      "text/plain": [
       "<IPython.core.display.Markdown object>"
      ]
     },
     "execution_count": null,
     "metadata": {},
     "output_type": "execute_result"
    }
   ],
   "source": [
    "cell = minimal.cells[1]\n",
    "display_json(cell.outputs)"
   ]
  },
  {
   "cell_type": "markdown",
   "metadata": {},
   "source": [
    "The abstract syntax tree of source code cells is available in the `parsed_` property:"
   ]
  },
  {
   "cell_type": "code",
   "execution_count": null,
   "metadata": {},
   "outputs": [
    {
     "data": {
      "text/plain": [
       "<_ast.Add at 0x7fd6ae4eba30>"
      ]
     },
     "execution_count": null,
     "metadata": {},
     "output_type": "execute_result"
    }
   ],
   "source": [
    "cell.parsed_()[0].value.op"
   ]
  },
  {
   "cell_type": "markdown",
   "metadata": {},
   "source": [
    "Since loading JSON and converting to an NB is something we'll do a lot, we'll create a shortcut function for it:"
   ]
  },
  {
   "cell_type": "code",
   "execution_count": null,
   "metadata": {},
   "outputs": [],
   "source": [
    "#export\n",
    "def read_nb(path):\n",
    "    \"Return notebook at `path`\"\n",
    "    return dict2nb(Path(path).read_json())"
   ]
  },
  {
   "cell_type": "code",
   "execution_count": null,
   "metadata": {},
   "outputs": [
    {
     "name": "stdout",
     "output_type": "stream",
     "text": [
      "# A minimal notebook\n"
     ]
    }
   ],
   "source": [
    "minimal = read_nb(minimal_fn)\n",
    "print(minimal.cells[0])"
   ]
  },
  {
   "cell_type": "markdown",
   "metadata": {},
   "source": [
    "## Config"
   ]
  },
  {
   "cell_type": "markdown",
   "metadata": {},
   "source": [
    "nbdev uses a `settings.ini` file in the root of the project to store all configuration details. This file is in `ConfigParser` format, and can be read and written conveniently using fastcore's `Config` class."
   ]
  },
  {
   "cell_type": "code",
   "execution_count": null,
   "metadata": {},
   "outputs": [],
   "source": [
    "#export\n",
    "@call_parse\n",
    "def nbdev_create_config(\n",
    "    user:str, # Repo username\n",
    "    host:str='github', # Repo hostname\n",
    "    lib_name:str=None, # Name of library\n",
    "    path:str='.', # Path to create config file\n",
    "    cfg_name:str='settings.ini', # Name of config file to create\n",
    "    branch:str='master', # Repo branch\n",
    "    git_url:str=\"https://github.com/%(user)s/%(lib_name)s/tree/%(branch)s/\", # Repo URL\n",
    "    custom_sidebar:bool_arg=False, # Create custom sidebar?\n",
    "    nbs_path:str='.', # Name of folder containing notebooks\n",
    "    lib_path:str='%(lib_name)s', # Folder name of root module\n",
    "    doc_path:str='docs', # Folder name containing docs\n",
    "    tst_flags:str='', # Test flags\n",
    "    version:str='0.0.1', # Version number\n",
    "    **kwargs\n",
    "):\n",
    "    \"Creates a new config file for `lib_name` and `user` and saves it.\"\n",
    "    if lib_name is None:\n",
    "        parent = Path.cwd().parent\n",
    "        lib_name = parent.parent.name if parent.name=='nbs' else parent.name\n",
    "    g = locals()\n",
    "    config = {o:g[o] for o in 'host lib_name user branch git_url lib_path nbs_path doc_path \\\n",
    "        tst_flags version custom_sidebar'.split()}\n",
    "    config = merge(config, kwargs)\n",
    "    save_config_file(Path(path)/cfg_name, config)"
   ]
  },
  {
   "cell_type": "markdown",
   "metadata": {},
   "source": [
    "This is a wrapper for `fastcore`'s `save_config_file` which sets some `nbdev` defaults. It is also installed as a CLI command."
   ]
  },
  {
   "cell_type": "code",
   "execution_count": null,
   "metadata": {},
   "outputs": [],
   "source": [
    "#export\n",
    "@functools.lru_cache(maxsize=None)                \n",
    "def get_config(cfg_name='settings.ini', path=None):\n",
    "    \"`Config` for ini file found in `path` (defaults to `cwd`)\"\n",
    "    cfg_path = Path.cwd() if path is None else path\n",
    "    while cfg_path != cfg_path.parent and not (cfg_path/cfg_name).exists(): cfg_path = cfg_path.parent\n",
    "    return Config(cfg_path, cfg_name=cfg_name)"
   ]
  },
  {
   "cell_type": "markdown",
   "metadata": {},
   "source": [
    "`get_config` searches for `settings.ini` in the current directory, and then in all parent directories, stopping when it is found."
   ]
  },
  {
   "cell_type": "code",
   "execution_count": null,
   "metadata": {},
   "outputs": [],
   "source": [
    "nbdev_create_config('fastai', path='..', nbs_path='nbs', tst_flags='tst', cfg_name='test_settings.ini')\n",
    "cfg = get_config('test_settings.ini')\n",
    "test_eq(cfg.lib_name, 'nbdev')\n",
    "test_eq(cfg.git_url, \"https://github.com/fastai/nbdev/tree/master/\")\n",
    "cwd = Path.cwd()\n",
    "test_eq(cfg.config_path, cwd.parent.absolute())\n",
    "test_eq(cfg.path('lib_path'), cwd.parent/'nbdev')\n",
    "test_eq(cfg.path('nbs_path'), cwd)\n",
    "test_eq(cfg.path('doc_path'), cwd.parent/'docs')"
   ]
  },
  {
   "cell_type": "markdown",
   "metadata": {},
   "source": [
    "##  Exporting a basic module"
   ]
  },
  {
   "cell_type": "code",
   "execution_count": null,
   "metadata": {},
   "outputs": [],
   "source": [
    "#export\n",
    "_init = '__init__.py'\n",
    "\n",
    "def _has_py(fs): return any(1 for f in fs if f.endswith('.py'))\n",
    "\n",
    "def add_init(path):\n",
    "    \"Add `__init__.py` in all subdirs of `path` containing python files if it's not there already\"\n",
    "    # we add the lowest-level `__init__.py` files first, which ensures _has_py succeeds for parent modules\n",
    "    path = Path(path)\n",
    "    path.mkdir(exist_ok=True)\n",
    "    if not (path/_init).exists(): (path/_init).touch()\n",
    "    for r,ds,fs in os.walk(path, topdown=False):\n",
    "        r = Path(r)\n",
    "        subds = (os.listdir(r/d) for d in ds)\n",
    "        if _has_py(fs) or any(filter(_has_py, subds)) and not (r/_init).exists(): (r/_init).touch()"
   ]
  },
  {
   "cell_type": "markdown",
   "metadata": {},
   "source": [
    "Python modules require a `__init.py__` file in all directories that are modules. We assume that all directories containing a python file (including in subdirectories of any depth) is a module, and therefore add a `__init__.py` to each."
   ]
  },
  {
   "cell_type": "code",
   "execution_count": null,
   "metadata": {},
   "outputs": [],
   "source": [
    "with tempfile.TemporaryDirectory() as d:\n",
    "    d = Path(d)\n",
    "    (d/'a/b').mkdir(parents=True)\n",
    "    (d/'a/b/f.py').touch()\n",
    "    (d/'a/c').mkdir()\n",
    "    add_init(d)\n",
    "    assert not (d/'a/c'/_init).exists(), \"Should not add init to dir without py file\"\n",
    "    for e in [d, d/'a', d/'a/b']: assert (e/_init).exists(),f\"Missing init in {e}\""
   ]
  },
  {
   "cell_type": "code",
   "execution_count": null,
   "metadata": {},
   "outputs": [],
   "source": [
    "#export\n",
    "def export_cells(cells, hdr, file, offset=0):\n",
    "    \"Export `cells` to `file`\"\n",
    "    for cell in cells: file.write(f'{hdr} {cell.idx_}\\n{cell}\\n\\n\\n')"
   ]
  },
  {
   "cell_type": "markdown",
   "metadata": {},
   "source": [
    "## Export -"
   ]
  },
  {
   "cell_type": "code",
   "execution_count": null,
   "metadata": {},
   "outputs": [],
   "source": [
    "#export\n",
    "def basic_export_nb(fname, dest, lib_path=None):\n",
    "    \"Basic exporter to bootstrap nbdev\"\n",
    "    if lib_path is None: lib_path = get_config().lib_path\n",
    "    fname,dest = Path(fname),Path(dest)\n",
    "    nb = read_nb(fname)\n",
    "\n",
    "    # grab the source from all the cells that have an `export` comment\n",
    "    cells = L(cell for cell in nb.cells if re.match(r'#\\s*export', cell.source))\n",
    "    \n",
    "    # find all the exported functions, to create `__all__`:\n",
    "    trees = cells.map(NbCell.parsed_).concat()\n",
    "    funcs = trees.filter(risinstance((ast.FunctionDef,ast.ClassDef))).attrgot('name')\n",
    "    exp_funcs = [f for f in funcs if f[0]!='_']\n",
    "\n",
    "    # write out the file\n",
    "    dest.mkdir(exist_ok=True)\n",
    "    hdr = f\"# %% {fname.relpath(lib_path)}\"\n",
    "    with (dest/'read.py').open('w') as f:\n",
    "        f.write(f\"# %% auto 0\\n__all__ = {exp_funcs}\\n\\n\\n\")\n",
    "        export_cells(cells, hdr, f)"
   ]
  },
  {
   "cell_type": "code",
   "execution_count": null,
   "metadata": {},
   "outputs": [],
   "source": [
    "path = Path('../nbdev')\n",
    "(path/'read.py').unlink(missing_ok=True)\n",
    "add_init(path)\n",
    "basic_export_nb(\"00_read.ipynb\", path)\n",
    "\n",
    "from nbdev import read\n",
    "assert read.export_cells\n",
    "assert 'basic_export_nb' in read.__all__"
   ]
  },
  {
   "cell_type": "code",
   "execution_count": null,
   "metadata": {},
   "outputs": [],
   "source": []
  }
 ],
 "metadata": {
  "kernelspec": {
   "display_name": "Python 3",
   "language": "python",
   "name": "python3"
  }
 },
 "nbformat": 4,
 "nbformat_minor": 4
}
