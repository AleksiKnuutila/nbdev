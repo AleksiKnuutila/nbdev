{
 "cells": [
  {
   "cell_type": "code",
   "execution_count": null,
   "id": "f9e21b4f-1b14-4dbc-abd0-d2d8bdbf543f",
   "metadata": {},
   "outputs": [],
   "source": []
  }
 ],
 "metadata": {
  "kernelspec": {
   "display_name": "Python 3.9.7 ('base')",
   "language": "python",
   "name": "python397jvsc74a57bd042fd40e048e0585f88ec242f050f7ef0895cf845a8dd1159352394e5826cd102"
  }
 },
 "nbformat": 4,
 "nbformat_minor": 5
}
